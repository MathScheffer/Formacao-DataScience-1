{
 "cells": [
  {
   "cell_type": "code",
   "execution_count": 30,
   "metadata": {},
   "outputs": [],
   "source": [
    "# !pip install selenium\n",
    "\n",
    "\n",
    "\n",
    "from selenium import webdriver\n",
    "from selenium.webdriver.support import expected_conditions as EC\n",
    "from selenium.webdriver.common.by import By\n",
    "from selenium.webdriver.support.ui import WebDriverWait\n",
    "driver = webdriver.Chrome(executable_path=\"C:\\DRIVERS\\92.exe\")\n",
    "driver.get('https://www.auroravision.net/dash/home.jsf')\n"
   ]
  },
  {
   "cell_type": "code",
   "execution_count": null,
   "metadata": {},
   "outputs": [],
   "source": [
    "\n",
    "login = wait.until(EC.element_to_be_clickable((By.XPATH, \"//input[@id='userId']\")))\n",
    "password = wait.until(EC.element_to_be_clickable((By.XPATH, \"//input[@id='password']\")))\n",
    "\n",
    "\n",
    "login.click()"
   ]
  },
  {
   "cell_type": "code",
   "execution_count": 33,
   "metadata": {},
   "outputs": [],
   "source": [
    "wait = WebDriverWait(driver, 10)\n",
    "element = "
   ]
  },
  {
   "cell_type": "code",
   "execution_count": 35,
   "metadata": {},
   "outputs": [],
   "source": [
    "element.click()\n",
    "element.send_keys(\"test\")"
   ]
  },
  {
   "cell_type": "code",
   "execution_count": null,
   "metadata": {},
   "outputs": [],
   "source": []
  },
  {
   "cell_type": "code",
   "execution_count": 36,
   "metadata": {},
   "outputs": [],
   "source": [
    "driver.close()"
   ]
  },
  {
   "cell_type": "code",
   "execution_count": null,
   "metadata": {},
   "outputs": [],
   "source": []
  },
  {
   "cell_type": "code",
   "execution_count": 39,
   "metadata": {},
   "outputs": [],
   "source": [
    "from selenium.webdriver.support.ui import WebDriverWait\n",
    "\n",
    "\n",
    "class BasePageElement(object):\n",
    "    \"\"\"Base page class that is initialized on every page object class.\"\"\"\n",
    "\n",
    "    def __set__(self, obj, value):\n",
    "        \"\"\"Sets the text to the value supplied\"\"\"\n",
    "\n",
    "        driver = obj.driver\n",
    "        WebDriverWait(driver, 100).until(\n",
    "            lambda driver: driver.find_element_by_name(self.locator))\n",
    "        driver.find_element_by_name(self.locator).clear()\n",
    "        driver.find_element_by_name(self.locator).send_keys(value)\n",
    "\n",
    "    def __get__(self, obj, owner):\n",
    "        \"\"\"Gets the text of the specified object\"\"\"\n",
    "\n",
    "        driver = obj.driver\n",
    "        WebDriverWait(driver, 100).until(\n",
    "            lambda driver: driver.find_element_by_name(self.locator))\n",
    "        element = driver.find_element_by_name(self.locator)\n",
    "        return element.get_attribute(\"value\")"
   ]
  },
  {
   "cell_type": "code",
   "execution_count": 40,
   "metadata": {},
   "outputs": [],
   "source": [
    "from selenium.webdriver.common.by import By\n",
    "\n",
    "class MainPageLocators(object):\n",
    "    \"\"\"A class for main page locators. All main page locators should come here\"\"\"\n",
    "\n",
    "    GO_BUTTON = (By.ID, 'submit')\n",
    "\n",
    "class SearchResultsPageLocators(object):\n",
    "    \"\"\"A class for search results locators. All search results locators should\n",
    "    come here\"\"\"\n",
    "\n",
    "    pass"
   ]
  },
  {
   "cell_type": "code",
   "execution_count": null,
   "metadata": {},
   "outputs": [],
   "source": [
    "from element import BasePageElement\n",
    "from locators import MainPageLocators\n",
    "\n",
    "class SearchTextElement(BasePageElement):\n",
    "    \"\"\"This class gets the search text from the specified locator\"\"\"\n",
    "\n",
    "    #The locator for search box where search string is entered\n",
    "    locator = 'q'\n",
    "\n",
    "\n",
    "class BasePage(object):\n",
    "    \"\"\"Base class to initialize the base page that will be called from all\n",
    "    pages\"\"\"\n",
    "\n",
    "    def __init__(self, driver):\n",
    "        self.driver = driver\n",
    "\n",
    "\n",
    "class MainPage(BasePage):\n",
    "    \"\"\"Home page action methods come here. I.e. Python.org\"\"\"\n",
    "\n",
    "    #Declares a variable that will contain the retrieved text\n",
    "    search_text_element = SearchTextElement()\n",
    "\n",
    "    def is_title_matches(self):\n",
    "        \"\"\"Verifies that the hardcoded text \"Python\" appears in page title\"\"\"\n",
    "\n",
    "        return \"Python\" in self.driver.title\n",
    "\n",
    "    def click_go_button(self):\n",
    "        \"\"\"Triggers the search\"\"\"\n",
    "\n",
    "        element = self.driver.find_element(*MainPageLocators.GO_BUTTON)\n",
    "        element.click()\n",
    "\n",
    "\n",
    "class SearchResultsPage(BasePage):\n",
    "    \"\"\"Search results page action methods come here\"\"\"\n",
    "\n",
    "    def is_results_found(self):\n",
    "        # Probably should search for this text in the specific page\n",
    "        # element, but as for now it works fine\n",
    "        return \"No results found.\" not in self.driver.page_source"
   ]
  }
 ],
 "metadata": {
  "kernelspec": {
   "display_name": "Python 3",
   "language": "python",
   "name": "python3"
  },
  "language_info": {
   "codemirror_mode": {
    "name": "ipython",
    "version": 3
   },
   "file_extension": ".py",
   "mimetype": "text/x-python",
   "name": "python",
   "nbconvert_exporter": "python",
   "pygments_lexer": "ipython3",
   "version": "3.8.5"
  }
 },
 "nbformat": 4,
 "nbformat_minor": 4
}
